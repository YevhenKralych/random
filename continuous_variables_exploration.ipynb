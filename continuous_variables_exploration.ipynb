{
 "cells": [
  {
   "cell_type": "markdown",
   "id": "7ed0fffc-bc8b-42ad-90ae-323d8da6f400",
   "metadata": {},
   "source": [
    "# Imports and Setups"
   ]
  },
  {
   "cell_type": "code",
   "execution_count": 38,
   "id": "e5bca923-cfc2-4ab8-b0b1-bc000dc43ed4",
   "metadata": {},
   "outputs": [],
   "source": [
    "import scipy.stats as stats\n",
    "import scipy as sp\n",
    "import numpy as np\n",
    "from matplotlib import pyplot as plt\n",
    "import arviz as az\n",
    "from colorama import Fore\n",
    "import pandas as pd\n",
    "from google.cloud import bigquery\n",
    "from google.oauth2 import service_account\n",
    "import pandas as pd\n",
    "import numpy as np\n",
    "import pandas as pd\n",
    "from scipy import stats\n",
    "import matplotlib.pyplot as plt\n",
    "from scipy.stats import chi2, kstest\n",
    "\n",
    "credentials = service_account.Credentials.from_service_account_file(\n",
    "    '/Users/kralich/Documents/link-179609-556dd3468699.json',\n",
    "    scopes=['https://www.googleapis.com/auth/cloud-platform'],)"
   ]
  },
  {
   "cell_type": "code",
   "execution_count": 2,
   "id": "d27917ff",
   "metadata": {},
   "outputs": [],
   "source": [
    "# This notebook requires gbstats version 0.5.0 or later\n",
    "try:\n",
    "    import gbstats.utils\n",
    "    gbstats.utils.check_gbstats_compatibility('0.5.0')\n",
    "except ModuleNotFoundError:\n",
    "    raise ValueError('Upgrade gbstats to 0.5.0 or later from PyPI using `pip install gbstats`')\n",
    "from gbstats.gbstats import (\n",
    "    analyze_metric_df,\n",
    "    detect_unknown_variations,\n",
    "    get_metric_df,\n",
    "    reduce_dimensionality,\n",
    ")\n",
    "from gbstats.shared.constants import StatsEngine\n",
    "\n",
    "# Mapping of variation id to index\n",
    "var_id_map = {'0': 0, '1': 1}\n",
    "\n",
    "# Display names of variations\n",
    "var_names = ['Control', 'Variation 1']\n",
    "\n",
    "# Expected traffic split between variations\n",
    "weights = [0.5, 0.5]\n",
    "# Statistics engine to use\n",
    "stats_engine = StatsEngine.BAYESIAN\n",
    "# Engine config\n",
    "engine_config = {}\n",
    "# Columns to show in the result summary\n",
    "summary_cols = ['dimension', 'baseline_name', 'baseline_users', 'baseline_cr', 'baseline_risk', 'v1_name', 'v1_users', 'v1_cr', 'v1_expected', 'v1_ci', 'v1_risk', 'v1_prob_beat_baseline']"
   ]
  },
  {
   "cell_type": "markdown",
   "id": "56fd4495-d1c2-4c67-bbc4-efcc5e8a99ff",
   "metadata": {},
   "source": [
    "# Functions"
   ]
  },
  {
   "cell_type": "markdown",
   "id": "f7d24a21-8f59-4beb-9b75-69c5f97bd491",
   "metadata": {},
   "source": [
    "This function generates synthetic population data with a variation assigned to each user"
   ]
  },
  {
   "cell_type": "markdown",
   "id": "3faf872e-7b04-456b-98be-3e3c9932abf5",
   "metadata": {},
   "source": [
    "## Population Distribution Generators"
   ]
  },
  {
   "cell_type": "markdown",
   "id": "372c9ac0-471a-40f4-bf5a-acd55cdf946b",
   "metadata": {},
   "source": [
    "### Lognormal Zero-Inflated"
   ]
  },
  {
   "cell_type": "code",
   "execution_count": 3,
   "id": "100976a5-5e3d-4be0-9e6e-ea5cbed61bd3",
   "metadata": {},
   "outputs": [],
   "source": [
    "def generate_populations(mean_0, sigma_0, mean_1, sigma_1, zero_inflation_0, zero_inflation_1, N=100_000_000):\n",
    "    # Generate data from a log-normal distribution for each population\n",
    "    population_0 = np.random.lognormal(mean_0, sigma_0, N)\n",
    "    population_1 = np.random.lognormal(mean_1, sigma_1, N)\n",
    "\n",
    "    # Introduce inflated zeros for each population\n",
    "    zero_indices_0 = np.random.choice(N, size=int(N * zero_inflation_0), replace=False)\n",
    "    zero_indices_1 = np.random.choice(N, size=int(N * zero_inflation_1), replace=False)\n",
    "    \n",
    "    population_0[zero_indices_0] = 0\n",
    "    population_1[zero_indices_1] = 0\n",
    "\n",
    "    # Create a dictionary to store populations for iterating\n",
    "    populations = {0: population_0, 1: population_1}\n",
    "\n",
    "    # For each population\n",
    "    for v in populations:\n",
    "        data_v = populations[v]\n",
    "\n",
    "        # Check the mean of the generated data\n",
    "        print(f'Population {v} Mean: {np.mean(data_v)}')\n",
    "\n",
    "        # Check the standard deviation of the generated data\n",
    "        print(f'Population {v} Standard Deviation: {np.std(data_v)}')\n",
    "\n",
    "        # Check the skewness of the generated data\n",
    "        print(f'Population {v} Skewness: {stats.skew(data_v)}')\n",
    "\n",
    "        # Check the kurtosis of the generated data\n",
    "        print(f'Population {v} Kurtosis: {stats.kurtosis(data_v)}')\n",
    "\n",
    "        # Check the total revenue for each population\n",
    "        print(f'Population {v} Total Revenue: {np.sum(data_v)}')\n",
    "\n",
    "        # Check the range of values for each population\n",
    "        print(f'Population {v} Range: {np.min(data_v)} - {np.max(data_v)}')\n",
    "\n",
    "        # Plot the histogram of the generated data\n",
    "        plt.hist(data_v, bins=50, alpha=0.5, density=True)\n",
    "        plt.title(f'Histogram of generated data for population {v}')\n",
    "        plt.xlabel('Value')\n",
    "        plt.ylabel('Density')\n",
    "        plt.grid(True)\n",
    "        plt.show()\n",
    "\n",
    "    # Return the arrays\n",
    "    return population_0, population_1\n"
   ]
  },
  {
   "cell_type": "markdown",
   "id": "e5f8085f-801f-4294-85b1-14cf38c087d8",
   "metadata": {},
   "source": [
    "### Gaussian (Normal)"
   ]
  },
  {
   "cell_type": "code",
   "execution_count": 4,
   "id": "2fe500b1-509f-48f5-8e37-6c8b0f8ec3a2",
   "metadata": {},
   "outputs": [],
   "source": [
    "def generate_populations_gaussian(mean_0, sigma_0, mean_1, sigma_1, N=100_000_000):\n",
    "    # Generate data from a normal distribution for each population\n",
    "    population_0 = np.random.normal(mean_0, sigma_0, N)\n",
    "    population_1 = np.random.normal(mean_1, sigma_1, N)\n",
    "\n",
    "    # Create a dictionary to store populations for iterating\n",
    "    populations = {0: population_0, 1: population_1}\n",
    "\n",
    "    # For each population\n",
    "    for v in populations:\n",
    "        data_v = populations[v]\n",
    "\n",
    "        # Check the mean of the generated data\n",
    "        print(f'Population {v} Mean: {np.mean(data_v)}')\n",
    "\n",
    "        # Check the standard deviation of the generated data\n",
    "        print(f'Population {v} Standard Deviation: {np.std(data_v)}')\n",
    "\n",
    "        # Check the skewness of the generated data\n",
    "        print(f'Population {v} Skewness: {stats.skew(data_v)}')\n",
    "\n",
    "        # Check the kurtosis of the generated data\n",
    "        print(f'Population {v} Kurtosis: {stats.kurtosis(data_v)}')\n",
    "\n",
    "        # Check the total revenue for each population\n",
    "        print(f'Population {v} Total Revenue: {np.sum(data_v)}')\n",
    "\n",
    "        # Check the range of values for each population\n",
    "        print(f'Population {v} Range: {np.min(data_v)} - {np.max(data_v)}')\n",
    "\n",
    "        # Plot the histogram of the generated data\n",
    "        plt.hist(data_v, bins=50, alpha=0.5, density=True)\n",
    "        plt.title(f'Histogram of generated data for population {v}')\n",
    "        plt.xlabel('Value')\n",
    "        plt.ylabel('Density')\n",
    "        plt.grid(True)\n",
    "        plt.show()\n",
    "\n",
    "    # Return the arrays\n",
    "    return population_0, population_1"
   ]
  },
  {
   "cell_type": "markdown",
   "id": "516fe82b-ea83-4963-b76a-7f3f7c8df710",
   "metadata": {},
   "source": [
    "## Sampling Mean Normality Estimator"
   ]
  },
  {
   "cell_type": "markdown",
   "id": "51aeda9e-b01e-4383-a20f-437896f84ee7",
   "metadata": {},
   "source": [
    "Check if the distribution of the sample means converges to normal for the given sample size and population."
   ]
  },
  {
   "cell_type": "code",
   "execution_count": 5,
   "id": "1474c8d3-5dce-48f5-a386-5b880bf914e5",
   "metadata": {},
   "outputs": [],
   "source": [
    "def calculate_sample_means(population, sample_size):\n",
    "    sample_means = []\n",
    "\n",
    "    # Generate 100,000 samples\n",
    "    for _ in range(100_000):\n",
    "        sample = np.random.choice(population, sample_size)\n",
    "        sample_means.append(sample.mean())\n",
    "\n",
    "    # Convert the list to a numpy array\n",
    "    sample_means = np.array(sample_means)\n",
    "\n",
    "    # Calculate the first four moments\n",
    "    mean = sample_means.mean()\n",
    "    variance = sample_means.var()\n",
    "    skewness = stats.skew(sample_means)\n",
    "    kurtosis = stats.kurtosis(sample_means)\n",
    "\n",
    "    # Plot the histogram\n",
    "    plt.hist(sample_means, bins=50, alpha=0.5, density=True)\n",
    "    plt.title('Histogram of Sample Means')\n",
    "    plt.xlabel('Sample Mean')\n",
    "    plt.ylabel('Density')\n",
    "\n",
    "    # Print the moments on the histogram\n",
    "    plt.text(0.6, 0.6, f'Mean: {mean:.2f}', horizontalalignment='center', verticalalignment='center', transform=plt.gca().transAxes)\n",
    "    plt.text(0.6, 0.55, f'Variance: {variance:.2f}', horizontalalignment='center', verticalalignment='center', transform=plt.gca().transAxes)\n",
    "    plt.text(0.6, 0.5, f'Skewness: {skewness:.2f}', horizontalalignment='center', verticalalignment='center', transform=plt.gca().transAxes)\n",
    "    plt.text(0.6, 0.45, f'Kurtosis: {kurtosis:.2f}', horizontalalignment='center', verticalalignment='center', transform=plt.gca().transAxes)\n",
    "\n",
    "    plt.grid(True)\n",
    "    plt.show()\n"
   ]
  },
  {
   "cell_type": "markdown",
   "id": "e8fe3e1b-a3cc-4c65-9c75-f497ab779760",
   "metadata": {},
   "source": [
    "## Difference of Sample Means Normality Estimator"
   ]
  },
  {
   "cell_type": "code",
   "execution_count": 196,
   "id": "5eb63a32-1333-42c7-9aae-f3dd8d5373f1",
   "metadata": {},
   "outputs": [],
   "source": [
    "def calculate_sample_mean_differences(population_0, population_1, sample_size):\n",
    "    t_values = []\n",
    "    sample_mean_diffs = []\n",
    "    dof = 2*sample_size - 2  # Calculate degrees of freedom\n",
    "\n",
    "    # Calculate population parameters outside the loop\n",
    "    pop_mean_diff = population_1.mean() - population_0.mean() \n",
    "    SE_pop = np.sqrt(population_1.std()**2/sample_size + population_0.std()**2/sample_size)\n",
    "    CI_pop = [pop_mean_diff + multiplier * SE_pop for multiplier in [-1.96, 1.96]]\n",
    "\n",
    "    # Generate 100,000 samples\n",
    "    for _ in range(100_000):\n",
    "        sample_0 = np.random.choice(population_0, sample_size)\n",
    "        sample_1 = np.random.choice(population_1, sample_size)\n",
    "        sample_mean_diff = sample_1.mean() - sample_0.mean()\n",
    "        sample_mean_diffs.append(sample_mean_diff)\n",
    "\n",
    "        # Standard error calculation\n",
    "        SE = np.sqrt(sample_0.var()/sample_size + sample_1.var()/sample_size)\n",
    "        \n",
    "        # t-value calculation\n",
    "        t_value = (sample_mean_diff - pop_mean_diff) / SE\n",
    "        t_values.append(t_value)\n",
    "\n",
    "    # Convert the list to a numpy array\n",
    "    sample_mean_diffs = np.array(sample_mean_diffs)\n",
    "    t_values = np.array(t_values)\n",
    "\n",
    "    # Count the proportion of sample mean differences outside the boundaries\n",
    "    outside_CI = np.mean((sample_mean_diffs < CI_pop[0]) | (sample_mean_diffs > CI_pop[1]))\n",
    "\n",
    "    # Plot the histogram\n",
    "    plt.hist(sample_mean_diffs, bins=50, alpha=0.5, density=True, label='Observed sample mean differences')\n",
    "\n",
    "    # Generate values for overlay of the theoretical normal distribution\n",
    "    x = np.linspace(pop_mean_diff - 4*SE_pop, pop_mean_diff + 4*SE_pop, 100)\n",
    "    y = stats.norm.pdf(x, pop_mean_diff, SE_pop)\n",
    "\n",
    "    # Add the theoretical density curve to the plot\n",
    "    plt.plot(x, y, 'r-', lw=2, label='Theoretical normal distribution')\n",
    "\n",
    "    plt.title('Histogram of Sample Mean Differences')\n",
    "    plt.xlabel('Sample Mean Difference')\n",
    "    plt.ylabel('Density')\n",
    "\n",
    "    plt.text(0.6, 0.5, f'Proportion outside CI: {outside_CI:.2f}', horizontalalignment='center', verticalalignment='center', transform=plt.gca().transAxes)\n",
    "\n",
    "    plt.legend()\n",
    "    plt.grid(True)\n",
    "    plt.show()\n"
   ]
  },
  {
   "cell_type": "markdown",
   "id": "a00351e0-5617-4b48-be83-7ef9ef1d3bfa",
   "metadata": {},
   "source": [
    "## Distribution Sampler "
   ]
  },
  {
   "cell_type": "markdown",
   "id": "d17db6aa-3c0b-4155-983f-9a37ccbaf2df",
   "metadata": {},
   "source": [
    "This function samples from the dataframe holding the population and returns two samples in an numpy array"
   ]
  },
  {
   "cell_type": "code",
   "execution_count": 6,
   "id": "9f180e96-05f2-46b8-b2bf-ed8e4042ddff",
   "metadata": {},
   "outputs": [],
   "source": [
    "def sample_populations(population_0, population_1, sample_size=1000):\n",
    "    # Sampling 'sample_size' elements for each population\n",
    "    sample_0 = np.random.choice(population_0, size=sample_size, replace=False)\n",
    "    sample_1 = np.random.choice(population_1, size=sample_size, replace=False)\n",
    "    \n",
    "    return sample_0, sample_1"
   ]
  },
  {
   "cell_type": "markdown",
   "id": "6003ac74-109d-4009-a554-5c77ea381c70",
   "metadata": {},
   "source": [
    "## Summary Statistics Calculator"
   ]
  },
  {
   "cell_type": "markdown",
   "id": "94991344-ce65-482d-a2a5-beeb3801d7ba",
   "metadata": {},
   "source": [
    "Intermidiary function that calculates summary statistics before feeding them into the growthbook function that understand them. "
   ]
  },
  {
   "cell_type": "code",
   "execution_count": 7,
   "id": "d83338d4-debd-4711-a7d2-83f4cd9abc81",
   "metadata": {},
   "outputs": [],
   "source": [
    "def calculate_statistics(array_0, array_1):\n",
    "    # Calculating revenue and sum squares for each variation\n",
    "    sum_0 = array_0.sum()\n",
    "    sum_1 = array_1.sum()\n",
    "\n",
    "    sum_squares_0 = np.sum(np.square(array_0))\n",
    "    sum_squares_1 = np.sum(np.square(array_1))\n",
    "\n",
    "    sample_size_0 = len(array_0)  # Size of the first sample\n",
    "    sample_size_1 = len(array_1)  # Size of the second sample\n",
    "\n",
    "    # Creating dataframe for output\n",
    "    data = {\n",
    "        'variation': [0, 1],\n",
    "        'dimension': ['all', 'all'],\n",
    "        'users': [sample_size_0, sample_size_1],\n",
    "        'statistic_type': ['mean', 'mean'],\n",
    "        'main_metric_type': ['revenue', 'revenue'],\n",
    "        'main_sum': [sum_0, sum_1],\n",
    "        'main_sum_squares': [sum_squares_0, sum_squares_1]\n",
    "    }\n",
    "    result_df = pd.DataFrame(data)\n",
    "\n",
    "    return result_df"
   ]
  },
  {
   "cell_type": "markdown",
   "id": "70c55029-cbd7-4752-a422-6f1d9986af81",
   "metadata": {},
   "source": [
    "## Growthook Bayesian Analysis"
   ]
  },
  {
   "cell_type": "markdown",
   "id": "147190a5-08e6-4adf-b78b-78ccf19dedea",
   "metadata": {},
   "source": [
    "A wrapper function that performs a Bayesian analysis of two samples given the summary "
   ]
  },
  {
   "cell_type": "code",
   "execution_count": 61,
   "id": "e5c32ebb-e5a7-4d25-b67e-509121c2b81b",
   "metadata": {},
   "outputs": [],
   "source": [
    "def bayesian_summary_processor(m0_rows):\n",
    "    m0 = get_metric_df(\n",
    "        rows=m0_rows,\n",
    "        var_id_map={'0': 0, '1': 1},\n",
    "        var_names=['Control', 'Variation 1'],\n",
    "    )\n",
    "    m0_reduced = reduce_dimensionality(m0, max=20)\n",
    "    m0_result = analyze_metric_df(\n",
    "        df=m0_reduced,\n",
    "        weights=[0.5, 0.5],\n",
    "        inverse=False,\n",
    "        engine=StatsEngine.BAYESIAN,\n",
    "        engine_config={},\n",
    "    )\n",
    "    return {\n",
    "        'ci': [round(val, 4) for val in m0_result['v1_ci'][0]],\n",
    "        'prob': round(m0_result['v1_prob_beat_baseline'][0], 4),\n",
    "        'control_size': m0_result['baseline_users'][0],\n",
    "        'treatment_size': m0_result['v1_users'][0]\n",
    "    }\n"
   ]
  },
  {
   "cell_type": "code",
   "execution_count": 8,
   "id": "517136d5-d8d8-4ea5-9de5-06b9f0a0ae5f",
   "metadata": {},
   "outputs": [],
   "source": [
    "def bayesian_continuous_growthbook(array_0, array_1):\n",
    "    \n",
    "    # Calculate statistics\n",
    "    stats_df = calculate_statistics(array_0, array_1)\n",
    "\n",
    "    # Bayesian analysis\n",
    "    bayes_result = bayesian_summary_processor(stats_df)\n",
    "\n",
    "    return bayes_result"
   ]
  },
  {
   "cell_type": "markdown",
   "id": "ef441842-801c-4d37-9e96-af1d34a846a5",
   "metadata": {},
   "source": [
    "## Custom Beaysian Analysis"
   ]
  },
  {
   "cell_type": "markdown",
   "id": "8dc0b821-bb09-4185-a6f0-27a5903b5138",
   "metadata": {},
   "source": [
    "Custom bayesian function for continuous metrics"
   ]
  },
  {
   "cell_type": "code",
   "execution_count": 9,
   "id": "6494d544-eef1-4545-aa8c-697c1cb2888e",
   "metadata": {},
   "outputs": [],
   "source": [
    "def custom_bayesian_ab_gaussian(array_0, array_1):\n",
    "    # Calculating necessary statistics for each variation\n",
    "    a_mean, a_std, a_size = np.mean(array_0), np.std(array_0, ddof=1), len(array_0)\n",
    "    b_mean, b_std, b_size = np.mean(array_1), np.std(array_1, ddof=1), len(array_1)\n",
    "\n",
    "    pr_mean, pr_std, pr_size = 0, 1, 0\n",
    "    \n",
    "    weights_inv_var_a = pr_size / np.power(pr_std, 2), a_size / np.power(a_std, 2)\n",
    "    pt_a_mean = np.average((pr_mean, a_mean), weights=weights_inv_var_a)\n",
    "    pt_a_std = 1 / np.sqrt(np.sum(weights_inv_var_a)) \n",
    "    pt_a_dist = np.random.normal(pt_a_mean, pt_a_std, 1000000)\n",
    "    \n",
    "    weights_inv_var_b = pr_size / np.power(pr_std, 2), b_size / np.power(b_std, 2)\n",
    "    pt_b_mean = np.average((pr_mean, b_mean), weights=weights_inv_var_b)\n",
    "    pt_b_std = 1 / np.sqrt(np.sum(weights_inv_var_b)) \n",
    "    pt_b_dist = np.random.normal(pt_b_mean, pt_b_std, 1000000)\n",
    "    \n",
    "    diff_dist = pt_b_dist - pt_a_dist\n",
    "    \n",
    "    uplift = (pt_b_dist/pt_a_dist) - 1\n",
    " \n",
    "    exp_loss = round(uplift[uplift < 0].mean(), 2)\n",
    "    \n",
    "    ci = az.hdi(uplift, hdi_prob=0.95)\n",
    "    \n",
    "    p = round(len(diff_dist[diff_dist > 0]) / len(diff_dist), 6)\n",
    "    \n",
    "    p_value = round(1 - p, 6)\n",
    "    \n",
    "    readable = \"P: \" + str(round(p * 100, 2)) + \"%; CI: \" + str(ci) + \"; Uplift: \" + str(round(uplift.mean(), 2)) + \"%; Loss: \" + str(exp_loss) + \"%\" + \", Group A Mean: \" + str(round(a_mean, 2)) + \", Group B Mean: \" + str(round(b_mean, 2)) \n",
    "    \n",
    "    if p >= 0.95:\n",
    "        readable = Fore.GREEN + readable\n",
    "    else: \n",
    "        readable = Fore.BLACK + readable\n",
    "    \n",
    "    return {'control_mean': a_mean,\n",
    "            'treatment_mean': b_mean,\n",
    "            'control_std': a_std,\n",
    "            'treatment_std': b_std,\n",
    "            'control_size': a_size, \n",
    "            'treatment_size': b_size, \n",
    "            'control_pt_mean': pt_a_mean, \n",
    "            'treatment_pt_mean': pt_b_mean,\n",
    "            'control_pt_std': pt_a_std,\n",
    "            'treatment_pt_std': pt_b_std,\n",
    "            'diff_dist': diff_dist,\n",
    "            'uplift': uplift,\n",
    "            'uplift_mean': uplift.mean(),\n",
    "            'prob': p,\n",
    "            'ci': ci,\n",
    "            'weights_a': weights_inv_var_a,\n",
    "            'readable': readable,\n",
    "            'p_value': p_value,\n",
    "            'control_conversion': False,\n",
    "            'treatment_conversion': False\n",
    "           }\n"
   ]
  },
  {
   "cell_type": "markdown",
   "id": "ebf05c19-c150-4479-8f7c-ee5c0925110e",
   "metadata": {},
   "source": [
    "## Classic T-Test Analysis"
   ]
  },
  {
   "cell_type": "markdown",
   "id": "83f079e4-2690-461e-b932-8647879b38bb",
   "metadata": {},
   "source": [
    "Classic T-test for analyzing difference between two means"
   ]
  },
  {
   "cell_type": "code",
   "execution_count": 10,
   "id": "712c6a0e-c856-401c-b52f-efa01847593e",
   "metadata": {},
   "outputs": [],
   "source": [
    "def t_test(array_0, array_1) :\n",
    "      \n",
    "    a_mean = array_0.mean()\n",
    "    b_mean = array_1.mean()\n",
    "    \n",
    "    a_size = len(array_0)\n",
    "    b_size = len(array_1)\n",
    "    \n",
    "    a_std = array_0.std(ddof=1)\n",
    "    b_std = array_1.std(ddof=1)\n",
    "    \n",
    "    a_se = a_std / np.sqrt(a_size)\n",
    "    b_se = b_std / np.sqrt(b_size)\n",
    "    \n",
    "    se_diff = np.sqrt(a_se**2.0 + b_se**2.0)\n",
    "    \n",
    "    t_stat = (b_mean - a_mean) / se_diff\n",
    "    \n",
    "    mean_diff = b_mean - a_mean\n",
    "    \n",
    "    df =  a_size + b_size - 2\n",
    "\n",
    "    critical_t = sp.stats.t.ppf(1.0 - 0.05, df)\n",
    "    \n",
    "    ci_critical_t = sp.stats.t.ppf(1.0 - 0.025, df)\n",
    "    \n",
    "    ci = [mean_diff - ci_critical_t * se_diff, mean_diff + ci_critical_t * se_diff]\n",
    "        \n",
    "    p_value = 1 - sp.stats.t.cdf(t_stat, df)\n",
    "    \n",
    "    ci_naive = [ci[0] / a_mean  * 100, ci[1] / a_mean * 100]\n",
    "\n",
    "    probability = 1 - p_value\n",
    "       \n",
    "    readable = \"P-value: \" + str(round(p_value,2)) + \"; CI: \" + str(ci) + \"; Mean Difference: \" + str(round(mean_diff,2)) + \"; Mean A: \" + str(round(a_mean,2)) + \"; Mean B: \" + str(round(b_mean,2))\n",
    "    \n",
    "    if p_value <= 0.05 :\n",
    "        readable = Fore.GREEN + readable\n",
    "    else: \n",
    "        readable = Fore.BLACK + readable\n",
    "    \n",
    "    return {'control_mean': round(a_mean, 4),\n",
    "            'treatment_mean': round(b_mean, 4),\n",
    "            'control_std': round(a_std, 4),\n",
    "            'control_se': round(a_se, 4),\n",
    "            'treatment_std': round(b_std, 4),\n",
    "            'treatment_se': round(b_se, 4),\n",
    "            'control_size': a_size, \n",
    "            'treatment_size': b_size, \n",
    "            'control_pt_mean': round(a_mean, 4), \n",
    "            'treatment_pt_mean': round(b_mean, 4),\n",
    "            'control_pt_std': round(a_std, 4),\n",
    "            'control_pt_se': round(a_se, 4),\n",
    "            'treatment_pt_std': round(b_std, 4),\n",
    "            'treatment_pt_se': round(b_se, 4),\n",
    "            'control_pt_dist': None,\n",
    "            'diff_dist': None,\n",
    "            'standard_error_difference': round(se_diff, 4),\n",
    "            'uplift': None,\n",
    "            'uplift_mean': None,\n",
    "            'p': None,\n",
    "            'observed_mean_difference':round(mean_diff,4), \n",
    "            'ci': [round(ci[0], 4), round(ci[1], 4)],\n",
    "            'weights_a': None,\n",
    "            'readable' : readable,\n",
    "            'p_value' : round(p_value, 4),\n",
    "            'critical_t': round(critical_t, 4),\n",
    "            'prob': round(probability, 4),\n",
    "            'readable': readable\n",
    "           }\n"
   ]
  },
  {
   "cell_type": "markdown",
   "id": "b1596439-57c9-4d10-9e33-1f1001dd2dc4",
   "metadata": {},
   "source": [
    "## Experiment Iterator"
   ]
  },
  {
   "cell_type": "markdown",
   "id": "a5d58964-646f-42cf-b0b2-b3423944176c",
   "metadata": {},
   "source": [
    "Function performs a specified number of A/B tests by repeatedly taking samples from the population distribution.it prints out thre results of each A/B test and a summary"
   ]
  },
  {
   "cell_type": "code",
   "execution_count": 11,
   "id": "55470a96-de1b-4aa3-846f-5bf48f09ecc8",
   "metadata": {},
   "outputs": [],
   "source": [
    "def iterate_and_print(iterations, population_0, population_1, sample_size=5000, analysis_function=bayesian_continuous_growthbook):\n",
    "    mean_0 = round(population_0.mean(), 4)\n",
    "    mean_1 = round(population_1.mean(), 4)\n",
    "    uplift = round((mean_1 / mean_0) - 1, 4)\n",
    "    \n",
    "    mean_diff = mean_1 - mean_0\n",
    "    obs_mean_diff = False\n",
    "    \n",
    "    count_true = 0  # Initialize a counter for 'True' results\n",
    "    count_win = 0\n",
    "    for i in range(iterations):\n",
    "        \n",
    "        sample_0, sample_1 = sample_populations(population_0, population_1, sample_size)\n",
    "        \n",
    "        m0_result = analysis_function(sample_0, sample_1)\n",
    "        \n",
    "        ci = m0_result['ci']\n",
    "        prob = m0_result['prob']\n",
    "        baseline_users = m0_result['control_size']\n",
    "        v1_users = m0_result['treatment_size']\n",
    "        \n",
    "        # Check for inclusion based on the analysis function used\n",
    "        if analysis_function == t_test:\n",
    "            contains_true_value = ci[0] <= mean_diff <= ci[1]\n",
    "            obs_mean_diff = m0_result['observed_mean_difference']\n",
    "        else:\n",
    "            contains_true_value = ci[0] <= uplift <= ci[1]\n",
    "        \n",
    "        print(f\"{i+1}. Users: {baseline_users}; Real Uplift: {uplift}, Real Diff: {mean_diff}; Observed Diff: {obs_mean_diff}; In Inteval: {contains_true_value}, CI = {ci}; P: {prob}\")\n",
    "\n",
    "        # If the result is True, increment the counter\n",
    "        if contains_true_value:\n",
    "            count_true += 1\n",
    "             \n",
    "        if prob >= 0.95:\n",
    "            count_win += 1\n",
    "            \n",
    "    # After all iterations, print the proportion of 'True' results\n",
    "    proportion_true = round(count_true / iterations, 4)\n",
    "    proportion_winners = round(count_win / iterations, 4)\n",
    "    print(f\"Proportion of times 'contains_true_uplift' was True: {proportion_true}\")\n",
    "    print(f\"Proportion of winners: {proportion_winners}\")\n"
   ]
  },
  {
   "cell_type": "markdown",
   "id": "c7cd8b22-363e-4f92-88af-680674b1d518",
   "metadata": {},
   "source": [
    "## Sample Mean Estimator"
   ]
  },
  {
   "cell_type": "markdown",
   "id": "7c005106-7100-46d6-aa93-464f11ae54be",
   "metadata": {},
   "source": [
    "This function visualizes the difference of the sample mean distribution and also plots confidence intervals obtained during the simulation, along with some summary"
   ]
  },
  {
   "cell_type": "code",
   "execution_count": null,
   "id": "91b84af0-0536-4de7-8575-055fee16fb7a",
   "metadata": {},
   "outputs": [],
   "source": [
    "def plot_sample_mean_diffs(population_a, population_b, sample_size, num_samples=100_000):\n",
    "    sample_mean_diffs = []\n",
    "    ci_low = []\n",
    "    ci_high = []\n",
    "    overshoot_count = 0\n",
    "    undershoot_count = 0\n",
    "\n",
    "    # Calculate the theoretical distribution parameters\n",
    "    mean_diff = population_b.mean() - population_a.mean()\n",
    "\n",
    "    # Draw samples and calculate mean differences\n",
    "    for _ in range(num_samples):\n",
    "        sample_a = np.random.choice(population_a, sample_size)\n",
    "        sample_b = np.random.choice(population_b, sample_size)\n",
    "        sample_mean_diff = sample_b.mean() - sample_a.mean()\n",
    "        sample_mean_diffs.append(sample_mean_diff)\n",
    "\n",
    "        # Calculate standard error for the difference of means\n",
    "        se_diff = np.sqrt(sample_a.var()/sample_size + sample_b.var()/sample_size)\n",
    "\n",
    "        # Calculate confidence intervals for the difference of means\n",
    "        df = sample_size - 1  # degrees of freedom for the t-distribution\n",
    "        ci = stats.t.interval(0.95, df, loc=sample_mean_diff, scale=se_diff)\n",
    "        ci_low.append(ci[0])\n",
    "        ci_high.append(ci[1])\n",
    "\n",
    "        if ci[0] > mean_diff:\n",
    "            overshoot_count += 1\n",
    "        elif ci[1] < mean_diff:\n",
    "            undershoot_count += 1\n",
    "\n",
    "    # Convert to numpy array for easier calculations\n",
    "    sample_mean_diffs = np.array(sample_mean_diffs)\n",
    "    ci_low = np.array(ci_low)\n",
    "    ci_high = np.array(ci_high)\n",
    "\n",
    "    std_error_diff = np.sqrt(population_a.var()/sample_size + population_b.var()/sample_size)\n",
    "\n",
    "    # Calculate 2.5th and 97.5th percentiles of the theoretical distribution\n",
    "    low_percentile = stats.norm.ppf(0.025, mean_diff, std_error_diff)\n",
    "    high_percentile = stats.norm.ppf(0.975, mean_diff, std_error_diff)\n",
    "\n",
    "    # Count the number of sample mean differences that fall outside the percentiles\n",
    "    outside_percentiles = np.sum((sample_mean_diffs < low_percentile) | (sample_mean_diffs > high_percentile))\n",
    "    outside_percentiles_percent = outside_percentiles / num_samples\n",
    "\n",
    "    # Print percentile values\n",
    "    print(f'2.5th percentile: {low_percentile:.2f}')\n",
    "    print(f'97.5th percentile: {high_percentile:.2f}')\n",
    "\n",
    "    # Print summary statistics\n",
    "    print(f'Mean of sample mean differences: {np.mean(sample_mean_diffs):.2f}')\n",
    "    print(f'Standard deviation of sample mean differences: {np.std(sample_mean_diffs):.2f}')\n",
    "    print(f'Skewness of sample mean differences: {stats.skew(sample_mean_diffs):.2f}')\n",
    "    print(f'Kurtosis of sample mean differences: {stats.kurtosis(sample_mean_diffs):.2f}')\n",
    "\n",
    "    # Plot histogram of sample mean differences\n",
    "    plt.hist(sample_mean_diffs, bins=50, alpha=0.5, density=True, label='Observed sample mean differences')\n",
    "\n",
    "    # Overlay the theoretical normal distribution\n",
    "    x_values = np.linspace(mean_diff - 4*std_error_diff, mean_diff + 4*std_error_diff, 100)\n",
    "    y_values = stats.norm.pdf(x_values, mean_diff, std_error_diff)\n",
    "    plt.plot(x_values, y_values, 'r-', lw=2, label='Theoretical normal distribution')\n",
    "\n",
    "    # Highlight 2.5th and 97.5th percentile\n",
    "    plt.axvline(x=low_percentile, color='g', linestyle='--', label='2.5th percentile')\n",
    "    plt.axvline(x=high_percentile, color='g', linestyle='--', label='97.5th percentile')\n",
    "\n",
    "    plt.title('Histogram of Sample Mean Differences')\n",
    "    plt.xlabel('Sample Mean Difference')\n",
    "    plt.ylabel('Density')\n",
    "    plt.text(0.6, 0.6, f'Proportion outside percentiles: {outside_percentiles_percent:.2f}', \n",
    "             horizontalalignment='center', verticalalignment='center', transform=plt.gca().transAxes)\n",
    "    plt.legend()\n",
    "    plt.grid(True)\n",
    "    plt.show()\n",
    "\n",
    "    # Plot confidence intervals\n",
    "    plt.figure(figsize=(12,5))\n",
    "    plt.errorbar(range(num_samples), sample_mean_diffs, yerr=[sample_mean_diffs-ci_low, ci_high-sample_mean_diffs], fmt='o', alpha=0.5)\n",
    "    plt.axhline(mean_diff, color='r', linestyle='--', label='True mean difference')\n",
    "    plt.title('Confidence Intervals of Sample Mean Differences')\n",
    "    plt.xlabel('Sample')\n",
    "    plt.ylabel('Mean Difference')\n",
    "    plt.legend()\n",
    "    plt.grid(True)\n",
    "    plt.show()\n",
    "\n",
    "    # Count the number of confidence intervals that failed to contain the true mean difference\n",
    "    ci_fail_count = np.sum((ci_low > mean_diff) | (ci_high < mean_diff))\n",
    "    ci_fail_proportion = ci_fail_count / num_samples\n",
    "\n",
    "    # Print the proportion of confidence intervals that failed to contain the true mean difference, overshoot and undershoot\n",
    "    print(f'Proportion of confidence intervals that failed to contain the true mean difference: {ci_fail_proportion:.2f}')\n",
    "    print(f'Proportion of confidence intervals that overshoot the true mean difference: {overshoot_count/num_samples:.2f}')\n",
    "    print(f'Proportion of confidence intervals that undershoot the true mean difference: {undershoot_count/num_samples:.2f}')\n",
    "\n",
    "    # Return the sample mean differences and their confidence intervals\n",
    "    return True\n"
   ]
  },
  {
   "cell_type": "markdown",
   "id": "5dc838b4-fc64-46a4-bc09-e51c00e77765",
   "metadata": {},
   "source": [
    "## Query Runner"
   ]
  },
  {
   "cell_type": "markdown",
   "id": "da5509b0-5098-4ef0-8f90-7dba17a5d639",
   "metadata": {},
   "source": [
    "Function for retrieving real experiment data from Big Query"
   ]
  },
  {
   "cell_type": "code",
   "execution_count": null,
   "id": "d909f23b-7833-4423-b3ad-ec08e5226d69",
   "metadata": {},
   "outputs": [],
   "source": [
    "def runQuery(sql) :\n",
    "    return pd.read_gbq(sql, credentials=credentials)"
   ]
  },
  {
   "cell_type": "code",
   "execution_count": 49,
   "id": "585fb22d",
   "metadata": {},
   "outputs": [],
   "source": [
    "credentials = service_account.Credentials.from_service_account_file(\n",
    "    '/Users/kralich/Documents/link-179609-556dd3468699.json',\n",
    "    scopes=['https://www.googleapis.com/auth/cloud-platform'],)\n",
    "\n",
    "\n",
    "def runQuery(sql) :\n",
    "    return pd.read_gbq(sql, credentials=credentials)"
   ]
  },
  {
   "cell_type": "markdown",
   "id": "1e57827d",
   "metadata": {},
   "source": [
    "# Data Generation"
   ]
  },
  {
   "cell_type": "markdown",
   "id": "37f2b73a-221b-419e-b1cc-d8dc3e749fe5",
   "metadata": {},
   "source": [
    "### Synthetic Population Data for Analysis"
   ]
  },
  {
   "cell_type": "code",
   "execution_count": 73,
   "id": "4feaf312-9409-4e32-8129-2ca92b7c2af2",
   "metadata": {},
   "outputs": [
    {
     "name": "stdout",
     "output_type": "stream",
     "text": [
      "Population 0 Mean: 19.99993811617028\n",
      "Population 0 Standard Deviation: 0.9999278714700267\n",
      "Population 0 Skewness: 0.0002490844582293766\n",
      "Population 0 Kurtosis: 0.0001624597930698357\n",
      "Population 0 Total Revenue: 1999993811.6170282\n",
      "Population 0 Range: 14.378955756477554 - 25.516551165258257\n"
     ]
    },
    {
     "data": {
      "image/png": "[encoded data removed]",
      "text/plain": [
       "<Figure size 640x480 with 1 Axes>"
      ]
     },
     "metadata": {},
     "output_type": "display_data"
    },
    {
     "name": "stdout",
     "output_type": "stream",
     "text": [
      "Population 1 Mean: -3.121228486438137e-06\n",
      "Population 1 Standard Deviation: 0.9999939032503863\n",
      "Population 1 Skewness: -0.00010206722057229626\n",
      "Population 1 Kurtosis: -0.00010241397811583397\n",
      "Population 1 Total Revenue: -312.1228486438137\n",
      "Population 1 Range: -5.965665598326132 - 5.527393315342016\n"
     ]
    },
    {
     "data": {
      "image/png": "[encoded data removed]",
      "text/plain": [
       "<Figure size 640x480 with 1 Axes>"
      ]
     },
     "metadata": {},
     "output_type": "display_data"
    }
   ],
   "source": [
    "population_0, population_1 = generate_populations_gaussian(20, 1, 0, 1, 100_000_000)"
   ]
  },
  {
   "cell_type": "code",
   "execution_count": 37,
   "id": "36e3e7ba-dcc0-4460-a8c6-fe9e65b9f759",
   "metadata": {},
   "outputs": [
    {
     "data": {
      "text/html": [
       "<div>\n",
       "<style scoped>\n",
       "    .dataframe tbody tr th:only-of-type {\n",
       "        vertical-align: middle;\n",
       "    }\n",
       "\n",
       "    .dataframe tbody tr th {\n",
       "        vertical-align: top;\n",
       "    }\n",
       "\n",
       "    .dataframe thead th {\n",
       "        text-align: right;\n",
       "    }\n",
       "</style>\n",
       "<table border=\"1\" class=\"dataframe\">\n",
       "  <thead>\n",
       "    <tr style=\"text-align: right;\">\n",
       "      <th></th>\n",
       "      <th>variation</th>\n",
       "      <th>dimension</th>\n",
       "      <th>users</th>\n",
       "      <th>statistic_type</th>\n",
       "      <th>main_metric_type</th>\n",
       "      <th>main_sum</th>\n",
       "      <th>main_sum_squares</th>\n",
       "    </tr>\n",
       "  </thead>\n",
       "  <tbody>\n",
       "    <tr>\n",
       "      <th>0</th>\n",
       "      <td>0</td>\n",
       "      <td>all</td>\n",
       "      <td>1000</td>\n",
       "      <td>mean</td>\n",
       "      <td>revenue</td>\n",
       "      <td>558.702731</td>\n",
       "      <td>91678.051219</td>\n",
       "    </tr>\n",
       "    <tr>\n",
       "      <th>1</th>\n",
       "      <td>1</td>\n",
       "      <td>all</td>\n",
       "      <td>1000</td>\n",
       "      <td>mean</td>\n",
       "      <td>revenue</td>\n",
       "      <td>596.890923</td>\n",
       "      <td>19742.716477</td>\n",
       "    </tr>\n",
       "  </tbody>\n",
       "</table>\n",
       "</div>"
      ],
      "text/plain": [
       "   variation dimension  users statistic_type main_metric_type    main_sum  \\\n",
       "0          0       all   1000           mean          revenue  558.702731   \n",
       "1          1       all   1000           mean          revenue  596.890923   \n",
       "\n",
       "   main_sum_squares  \n",
       "0      91678.051219  \n",
       "1      19742.716477  "
      ]
     },
     "metadata": {},
     "output_type": "display_data"
    }
   ],
   "source": [
    "m0_rows = sample_and_calculate(synthetic_data)\n",
    "display(m0_rows)"
   ]
  },
  {
   "cell_type": "markdown",
   "id": "1be55517",
   "metadata": {},
   "source": [
    "### Real Experiment Data"
   ]
  },
  {
   "cell_type": "code",
   "execution_count": 54,
   "id": "09f124a2",
   "metadata": {},
   "outputs": [
    {
     "data": {
      "text/html": [
       "<div>\n",
       "<style scoped>\n",
       "    .dataframe tbody tr th:only-of-type {\n",
       "        vertical-align: middle;\n",
       "    }\n",
       "\n",
       "    .dataframe tbody tr th {\n",
       "        vertical-align: top;\n",
       "    }\n",
       "\n",
       "    .dataframe thead th {\n",
       "        text-align: right;\n",
       "    }\n",
       "</style>\n",
       "<table border=\"1\" class=\"dataframe\">\n",
       "  <thead>\n",
       "    <tr style=\"text-align: right;\">\n",
       "      <th></th>\n",
       "      <th>variation</th>\n",
       "      <th>dimension</th>\n",
       "      <th>users</th>\n",
       "      <th>statistic_type</th>\n",
       "      <th>main_metric_type</th>\n",
       "      <th>main_sum</th>\n",
       "      <th>main_sum_squares</th>\n",
       "    </tr>\n",
       "  </thead>\n",
       "  <tbody>\n",
       "    <tr>\n",
       "      <th>0</th>\n",
       "      <td>1</td>\n",
       "      <td>All</td>\n",
       "      <td>8793</td>\n",
       "      <td>mean</td>\n",
       "      <td>revenue</td>\n",
       "      <td>17335.13</td>\n",
       "      <td>8.336605e+06</td>\n",
       "    </tr>\n",
       "    <tr>\n",
       "      <th>1</th>\n",
       "      <td>0</td>\n",
       "      <td>All</td>\n",
       "      <td>8751</td>\n",
       "      <td>mean</td>\n",
       "      <td>revenue</td>\n",
       "      <td>17936.91</td>\n",
       "      <td>2.248242e+07</td>\n",
       "    </tr>\n",
       "  </tbody>\n",
       "</table>\n",
       "</div>"
      ],
      "text/plain": [
       "  variation dimension  users statistic_type main_metric_type  main_sum  \\\n",
       "0         1       All   8793           mean          revenue  17335.13   \n",
       "1         0       All   8751           mean          revenue  17936.91   \n",
       "\n",
       "   main_sum_squares  \n",
       "0      8.336605e+06  \n",
       "1      2.248242e+07  "
      ]
     },
     "metadata": {},
     "output_type": "display_data"
    }
   ],
   "source": [
    "# Get aggregate metric values per dimension/variation\n",
    "m0_sql = \"\"\"-- [Service V2] Revenue Per User (revenue)\n",
    "WITH\n",
    "  __rawExperiment as (\n",
    "    SELECT\n",
    "      CAST(user_id AS INT64) AS user_id,\n",
    "      CAST(created_at AS DATETIME) AS timestamp,\n",
    "      REGEXP_EXTRACT(experiment_id_variation, r\"(.*)\\\\.\") AS experiment_id,\n",
    "      REGEXP_EXTRACT(experiment_id_variation, r\"\\\\.(.*)\") AS variation_id,\n",
    "      event_name,\n",
    "      country,\n",
    "      lang,\n",
    "      device_category,\n",
    "      window_type,\n",
    "      window_name\n",
    "    FROM\n",
    "      `sendpulse_normalized.events`,\n",
    "      UNNEST (SPLIT(experiment_groups, \"!\")) AS experiment_id_variation\n",
    "    WHERE\n",
    "      stream_id = \"3570165827\"\n",
    "      AND experiment_groups IS NOT NULL\n",
    "      AND DATE(created_at) >= \"2023-01-01\"\n",
    "  ),\n",
    "  __experiment as ( -- Viewed Experiment\n",
    "    SELECT\n",
    "      e.user_id as user_id,\n",
    "      cast(e.variation_id as string) as variation,\n",
    "      CAST(e.timestamp as DATETIME) as timestamp,\n",
    "      CAST(e.timestamp as DATETIME) as conversion_start,\n",
    "      DATETIME_ADD(CAST(e.timestamp as DATETIME), INTERVAL 168 HOUR) as conversion_end\n",
    "    FROM\n",
    "      __rawExperiment e\n",
    "    WHERE\n",
    "      e.experiment_id = 'plans_after_survery'\n",
    "      AND CAST(e.timestamp as DATETIME) >= DATETIME(\"2023-05-17 08:38:00\")\n",
    "      AND CAST(e.timestamp as DATETIME) <= DATETIME(\"2023-07-12 16:55:30\")\n",
    "      AND (e.user_id >= 8342854)\n",
    "  ),\n",
    "  __metric as ( -- Metric ([Service V2] Revenue Per User)\n",
    "    SELECT\n",
    "      user_id as user_id,\n",
    "      m.value as value,\n",
    "      CAST(m.timestamp as DATETIME) as timestamp,\n",
    "      CAST(m.timestamp as DATETIME) as conversion_start,\n",
    "      CAST(m.timestamp as DATETIME) as conversion_end\n",
    "    FROM\n",
    "      (\n",
    "        SELECT\n",
    "          CAST(user_id AS INT64) AS user_id,\n",
    "          CAST(created_at AS DATETIME) AS timestamp,\n",
    "          value\n",
    "        FROM\n",
    "          `sendpulse_normalized.events`\n",
    "        WHERE\n",
    "          event_name = \"pricing_plan_activated\"\n",
    "          AND stream_id = '3570165827'\n",
    "      ) m\n",
    "    WHERE\n",
    "      CAST(m.timestamp as DATETIME) >= DATETIME(\"2023-05-17 08:38:00\")\n",
    "      AND CAST(m.timestamp as DATETIME) <= DATETIME(\"2024-06-29 12:07:00\")\n",
    "  ),\n",
    "  __distinctUsers as (\n",
    "    -- One row per user\n",
    "    SELECT\n",
    "      e.user_id as user_id,\n",
    "      cast('All' as string) as dimension,\n",
    "      (\n",
    "        CASE\n",
    "          WHEN count(distinct e.variation) > 1 THEN '__multiple__'\n",
    "          ELSE max(e.variation)\n",
    "        END\n",
    "      ) as variation,\n",
    "      MIN(e.conversion_start) as conversion_start,\n",
    "      MIN(e.conversion_end) as conversion_end\n",
    "    FROM\n",
    "      __experiment e\n",
    "    GROUP BY\n",
    "      e.user_id\n",
    "  ),\n",
    "  __userMetricJoin as (\n",
    "    SELECT\n",
    "      d.variation AS variation,\n",
    "      d.dimension AS dimension,\n",
    "      d.user_id AS user_id,\n",
    "      (\n",
    "        CASE\n",
    "          WHEN m.timestamp >= d.conversion_start\n",
    "          AND m.timestamp <= d.conversion_end THEN m.value\n",
    "          ELSE NULL\n",
    "        END\n",
    "      ) as value\n",
    "    FROM\n",
    "      __distinctUsers d\n",
    "      LEFT JOIN __metric m ON (m.user_id = d.user_id)\n",
    "  ),\n",
    "  __userMetricAgg as (\n",
    "    -- Add in the aggregate metric value for each user\n",
    "    SELECT\n",
    "      variation,\n",
    "      dimension,\n",
    "      user_id,\n",
    "      SUM(COALESCE(value, 0)) as value\n",
    "    FROM\n",
    "      __userMetricJoin\n",
    "    GROUP BY\n",
    "      variation,\n",
    "      dimension,\n",
    "      user_id\n",
    "  )\n",
    "  -- One row per variation/dimension with aggregations\n",
    "SELECT\n",
    "  m.variation AS variation,\n",
    "  m.dimension AS dimension,\n",
    "  COUNT(*) AS users,\n",
    "  'mean' as statistic_type,\n",
    "  'revenue' as main_metric_type,\n",
    "  SUM(COALESCE(m.value, 0)) AS main_sum,\n",
    "  SUM(POWER(COALESCE(m.value, 0), 2)) AS main_sum_squares\n",
    "FROM\n",
    "  __userMetricAgg m\n",
    "GROUP BY\n",
    "  m.variation,\n",
    "  m.dimension\"\"\"\n",
    "\n",
    "m0_rows = runQuery(m0_sql)\n",
    "display(m0_rows)"
   ]
  },
  {
   "cell_type": "markdown",
   "id": "af45769b",
   "metadata": {},
   "source": [
    "## Data Quality Checks / Preparation"
   ]
  },
  {
   "cell_type": "code",
   "execution_count": 38,
   "id": "21ae8ca4",
   "metadata": {},
   "outputs": [
    {
     "name": "stdout",
     "output_type": "stream",
     "text": [
      "Unexpected variation ids:  set()\n"
     ]
    }
   ],
   "source": [
    "# Identify any variation ids returned from SQL that we aren't expecting\n",
    "unknown_var_ids = detect_unknown_variations(\n",
    "    rows=m0_rows,\n",
    "    var_id_map=var_id_map\n",
    ")\n",
    "print(\"Unexpected variation ids: \", unknown_var_ids)"
   ]
  },
  {
   "cell_type": "code",
   "execution_count": 23,
   "id": "4e953044",
   "metadata": {},
   "outputs": [
    {
     "data": {
      "text/html": [
       "<div>\n",
       "<style scoped>\n",
       "    .dataframe tbody tr th:only-of-type {\n",
       "        vertical-align: middle;\n",
       "    }\n",
       "\n",
       "    .dataframe tbody tr th {\n",
       "        vertical-align: top;\n",
       "    }\n",
       "\n",
       "    .dataframe thead th {\n",
       "        text-align: right;\n",
       "    }\n",
       "</style>\n",
       "<table border=\"1\" class=\"dataframe\">\n",
       "  <thead>\n",
       "    <tr style=\"text-align: right;\">\n",
       "      <th></th>\n",
       "      <th>dimension</th>\n",
       "      <th>variations</th>\n",
       "      <th>statistic_type</th>\n",
       "      <th>main_metric_type</th>\n",
       "      <th>denominator_metric_type</th>\n",
       "      <th>covariate_metric_type</th>\n",
       "      <th>total_users</th>\n",
       "      <th>baseline_id</th>\n",
       "      <th>baseline_name</th>\n",
       "      <th>baseline_users</th>\n",
       "      <th>...</th>\n",
       "      <th>v1_users</th>\n",
       "      <th>v1_count</th>\n",
       "      <th>v1_main_sum</th>\n",
       "      <th>v1_main_sum_squares</th>\n",
       "      <th>v1_denominator_sum</th>\n",
       "      <th>v1_denominator_sum_squares</th>\n",
       "      <th>v1_main_denominator_sum_product</th>\n",
       "      <th>v1_covariate_sum</th>\n",
       "      <th>v1_covariate_sum_squares</th>\n",
       "      <th>v1_main_covariate_sum_product</th>\n",
       "    </tr>\n",
       "  </thead>\n",
       "  <tbody>\n",
       "    <tr>\n",
       "      <th>0</th>\n",
       "      <td>all</td>\n",
       "      <td>2</td>\n",
       "      <td>mean</td>\n",
       "      <td>revenue</td>\n",
       "      <td>None</td>\n",
       "      <td>None</td>\n",
       "      <td>2000</td>\n",
       "      <td>0</td>\n",
       "      <td>Control</td>\n",
       "      <td>1000</td>\n",
       "      <td>...</td>\n",
       "      <td>1000</td>\n",
       "      <td>1000</td>\n",
       "      <td>521.969066</td>\n",
       "      <td>50144.863955</td>\n",
       "      <td>0</td>\n",
       "      <td>0</td>\n",
       "      <td>0</td>\n",
       "      <td>0</td>\n",
       "      <td>0</td>\n",
       "      <td>0</td>\n",
       "    </tr>\n",
       "  </tbody>\n",
       "</table>\n",
       "<p>1 rows × 31 columns</p>\n",
       "</div>"
      ],
      "text/plain": [
       "  dimension  variations statistic_type main_metric_type  \\\n",
       "0       all           2           mean          revenue   \n",
       "\n",
       "  denominator_metric_type covariate_metric_type  total_users baseline_id  \\\n",
       "0                    None                  None         2000           0   \n",
       "\n",
       "  baseline_name  baseline_users  ...  v1_users  v1_count  v1_main_sum  \\\n",
       "0       Control            1000  ...      1000      1000   521.969066   \n",
       "\n",
       "   v1_main_sum_squares  v1_denominator_sum  v1_denominator_sum_squares  \\\n",
       "0         50144.863955                   0                           0   \n",
       "\n",
       "   v1_main_denominator_sum_product  v1_covariate_sum  \\\n",
       "0                                0                 0   \n",
       "\n",
       "   v1_covariate_sum_squares v1_main_covariate_sum_product  \n",
       "0                         0                             0  \n",
       "\n",
       "[1 rows x 31 columns]"
      ]
     },
     "metadata": {},
     "output_type": "display_data"
    }
   ],
   "source": [
    "# Process raw SQL rows into a usable dataframe for analysis\n",
    "m0 = get_metric_df(\n",
    "    rows=m0_rows,\n",
    "    var_id_map=var_id_map,\n",
    "    var_names=var_names,\n",
    ")\n",
    "display(m0)"
   ]
  },
  {
   "cell_type": "code",
   "execution_count": 24,
   "id": "45e07d01",
   "metadata": {},
   "outputs": [
    {
     "data": {
      "text/html": [
       "<div>\n",
       "<style scoped>\n",
       "    .dataframe tbody tr th:only-of-type {\n",
       "        vertical-align: middle;\n",
       "    }\n",
       "\n",
       "    .dataframe tbody tr th {\n",
       "        vertical-align: top;\n",
       "    }\n",
       "\n",
       "    .dataframe thead th {\n",
       "        text-align: right;\n",
       "    }\n",
       "</style>\n",
       "<table border=\"1\" class=\"dataframe\">\n",
       "  <thead>\n",
       "    <tr style=\"text-align: right;\">\n",
       "      <th></th>\n",
       "      <th>dimension</th>\n",
       "      <th>variations</th>\n",
       "      <th>statistic_type</th>\n",
       "      <th>main_metric_type</th>\n",
       "      <th>denominator_metric_type</th>\n",
       "      <th>covariate_metric_type</th>\n",
       "      <th>total_users</th>\n",
       "      <th>baseline_id</th>\n",
       "      <th>baseline_name</th>\n",
       "      <th>baseline_users</th>\n",
       "      <th>...</th>\n",
       "      <th>v1_users</th>\n",
       "      <th>v1_count</th>\n",
       "      <th>v1_main_sum</th>\n",
       "      <th>v1_main_sum_squares</th>\n",
       "      <th>v1_denominator_sum</th>\n",
       "      <th>v1_denominator_sum_squares</th>\n",
       "      <th>v1_main_denominator_sum_product</th>\n",
       "      <th>v1_covariate_sum</th>\n",
       "      <th>v1_covariate_sum_squares</th>\n",
       "      <th>v1_main_covariate_sum_product</th>\n",
       "    </tr>\n",
       "  </thead>\n",
       "  <tbody>\n",
       "    <tr>\n",
       "      <th>0</th>\n",
       "      <td>all</td>\n",
       "      <td>2</td>\n",
       "      <td>mean</td>\n",
       "      <td>revenue</td>\n",
       "      <td>None</td>\n",
       "      <td>None</td>\n",
       "      <td>2000</td>\n",
       "      <td>0</td>\n",
       "      <td>Control</td>\n",
       "      <td>1000</td>\n",
       "      <td>...</td>\n",
       "      <td>1000</td>\n",
       "      <td>1000</td>\n",
       "      <td>521.969066</td>\n",
       "      <td>50144.863955</td>\n",
       "      <td>0</td>\n",
       "      <td>0</td>\n",
       "      <td>0</td>\n",
       "      <td>0</td>\n",
       "      <td>0</td>\n",
       "      <td>0</td>\n",
       "    </tr>\n",
       "  </tbody>\n",
       "</table>\n",
       "<p>1 rows × 31 columns</p>\n",
       "</div>"
      ],
      "text/plain": [
       "  dimension  variations statistic_type main_metric_type  \\\n",
       "0       all           2           mean          revenue   \n",
       "\n",
       "  denominator_metric_type covariate_metric_type  total_users baseline_id  \\\n",
       "0                    None                  None         2000           0   \n",
       "\n",
       "  baseline_name  baseline_users  ...  v1_users  v1_count  v1_main_sum  \\\n",
       "0       Control            1000  ...      1000      1000   521.969066   \n",
       "\n",
       "   v1_main_sum_squares  v1_denominator_sum  v1_denominator_sum_squares  \\\n",
       "0         50144.863955                   0                           0   \n",
       "\n",
       "   v1_main_denominator_sum_product  v1_covariate_sum  \\\n",
       "0                                0                 0   \n",
       "\n",
       "   v1_covariate_sum_squares v1_main_covariate_sum_product  \n",
       "0                         0                             0  \n",
       "\n",
       "[1 rows x 31 columns]"
      ]
     },
     "metadata": {},
     "output_type": "display_data"
    }
   ],
   "source": [
    "# If there are too many dimensions, merge the smaller ones together\n",
    "m0_reduced = reduce_dimensionality(m0, max=20)\n",
    "display(m0_reduced)"
   ]
  },
  {
   "cell_type": "markdown",
   "id": "b624ef37",
   "metadata": {},
   "source": [
    "### Result"
   ]
  },
  {
   "cell_type": "code",
   "execution_count": 25,
   "id": "a2389190",
   "metadata": {},
   "outputs": [
    {
     "data": {
      "text/html": [
       "<div>\n",
       "<style scoped>\n",
       "    .dataframe tbody tr th:only-of-type {\n",
       "        vertical-align: middle;\n",
       "    }\n",
       "\n",
       "    .dataframe tbody tr th {\n",
       "        vertical-align: top;\n",
       "    }\n",
       "\n",
       "    .dataframe thead th {\n",
       "        text-align: right;\n",
       "    }\n",
       "</style>\n",
       "<table border=\"1\" class=\"dataframe\">\n",
       "  <thead>\n",
       "    <tr style=\"text-align: right;\">\n",
       "      <th></th>\n",
       "      <th>0</th>\n",
       "    </tr>\n",
       "  </thead>\n",
       "  <tbody>\n",
       "    <tr>\n",
       "      <th>dimension</th>\n",
       "      <td>all</td>\n",
       "    </tr>\n",
       "    <tr>\n",
       "      <th>baseline_name</th>\n",
       "      <td>Control</td>\n",
       "    </tr>\n",
       "    <tr>\n",
       "      <th>baseline_users</th>\n",
       "      <td>1000</td>\n",
       "    </tr>\n",
       "    <tr>\n",
       "      <th>baseline_cr</th>\n",
       "      <td>0.583535</td>\n",
       "    </tr>\n",
       "    <tr>\n",
       "      <th>baseline_risk</th>\n",
       "      <td>0</td>\n",
       "    </tr>\n",
       "    <tr>\n",
       "      <th>v1_name</th>\n",
       "      <td>Variation 1</td>\n",
       "    </tr>\n",
       "    <tr>\n",
       "      <th>v1_users</th>\n",
       "      <td>1000</td>\n",
       "    </tr>\n",
       "    <tr>\n",
       "      <th>v1_cr</th>\n",
       "      <td>0.521969</td>\n",
       "    </tr>\n",
       "    <tr>\n",
       "      <th>v1_expected</th>\n",
       "      <td>-0.105505</td>\n",
       "    </tr>\n",
       "    <tr>\n",
       "      <th>v1_ci</th>\n",
       "      <td>[0, 0]</td>\n",
       "    </tr>\n",
       "    <tr>\n",
       "      <th>v1_risk</th>\n",
       "      <td>0</td>\n",
       "    </tr>\n",
       "    <tr>\n",
       "      <th>v1_prob_beat_baseline</th>\n",
       "      <td>0.5</td>\n",
       "    </tr>\n",
       "  </tbody>\n",
       "</table>\n",
       "</div>"
      ],
      "text/plain": [
       "                                 0\n",
       "dimension                      all\n",
       "baseline_name              Control\n",
       "baseline_users                1000\n",
       "baseline_cr               0.583535\n",
       "baseline_risk                    0\n",
       "v1_name                Variation 1\n",
       "v1_users                      1000\n",
       "v1_cr                     0.521969\n",
       "v1_expected              -0.105505\n",
       "v1_ci                       [0, 0]\n",
       "v1_risk                          0\n",
       "v1_prob_beat_baseline          0.5"
      ]
     },
     "metadata": {},
     "output_type": "display_data"
    }
   ],
   "source": [
    "# Run the analysis and show a summary of results\n",
    "m0_result = analyze_metric_df(\n",
    "    df=m0_reduced,\n",
    "    weights=weights,\n",
    "    inverse=False,\n",
    "    engine=stats_engine,\n",
    "    engine_config=engine_config,\n",
    ")\n",
    "display(m0_result[summary_cols].T)"
   ]
  },
  {
   "cell_type": "code",
   "execution_count": 120,
   "id": "34a41350-c3dd-4af4-97e2-1ec9f5ab0a40",
   "metadata": {},
   "outputs": [
    {
     "data": {
      "text/plain": [
       "14.050473778316276"
      ]
     },
     "execution_count": 120,
     "metadata": {},
     "output_type": "execute_result"
    }
   ],
   "source": [
    "(population_1.mean() / population_0.mean()) - 1"
   ]
  },
  {
   "cell_type": "code",
   "execution_count": 321,
   "id": "288e65e6-0d92-46da-ae32-ded29aa267b5",
   "metadata": {},
   "outputs": [
    {
     "name": "stdout",
     "output_type": "stream",
     "text": [
      "1. Users: 1000; Real Uplift: 5.8291, Real Diff: 2.8644; Observed Diff: False; In Inteval: True, CI = [1.9366, 6.3412]; P: 1.0\n",
      "2. Users: 1000; Real Uplift: 5.8291, Real Diff: 2.8644; Observed Diff: False; In Inteval: True, CI = [2.7458, 7.956]; P: 1.0\n",
      "3. Users: 1000; Real Uplift: 5.8291, Real Diff: 2.8644; Observed Diff: False; In Inteval: True, CI = [4.0433, 11.0647]; P: 1.0\n",
      "4. Users: 1000; Real Uplift: 5.8291, Real Diff: 2.8644; Observed Diff: False; In Inteval: True, CI = [3.5107, 12.6673]; P: 1.0\n",
      "5. Users: 1000; Real Uplift: 5.8291, Real Diff: 2.8644; Observed Diff: False; In Inteval: True, CI = [3.3841, 8.9754]; P: 1.0\n",
      "6. Users: 1000; Real Uplift: 5.8291, Real Diff: 2.8644; Observed Diff: False; In Inteval: True, CI = [3.7824, 10.116]; P: 1.0\n",
      "7. Users: 1000; Real Uplift: 5.8291, Real Diff: 2.8644; Observed Diff: False; In Inteval: False, CI = [0, 0]; P: 0.5\n",
      "8. Users: 1000; Real Uplift: 5.8291, Real Diff: 2.8644; Observed Diff: False; In Inteval: True, CI = [2.543, 8.7542]; P: 1.0\n",
      "9. Users: 1000; Real Uplift: 5.8291, Real Diff: 2.8644; Observed Diff: False; In Inteval: False, CI = [6.0312, 19.9434]; P: 1.0\n",
      "10. Users: 1000; Real Uplift: 5.8291, Real Diff: 2.8644; Observed Diff: False; In Inteval: True, CI = [3.0801, 8.0956]; P: 1.0\n",
      "11. Users: 1000; Real Uplift: 5.8291, Real Diff: 2.8644; Observed Diff: False; In Inteval: True, CI = [2.4511, 9.8197]; P: 1.0\n",
      "12. Users: 1000; Real Uplift: 5.8291, Real Diff: 2.8644; Observed Diff: False; In Inteval: False, CI = [1.7529, 5.5233]; P: 1.0\n",
      "13. Users: 1000; Real Uplift: 5.8291, Real Diff: 2.8644; Observed Diff: False; In Inteval: True, CI = [3.7372, 11.0291]; P: 1.0\n",
      "14. Users: 1000; Real Uplift: 5.8291, Real Diff: 2.8644; Observed Diff: False; In Inteval: True, CI = [5.0603, 15.1995]; P: 1.0\n",
      "15. Users: 1000; Real Uplift: 5.8291, Real Diff: 2.8644; Observed Diff: False; In Inteval: True, CI = [2.0278, 6.2891]; P: 1.0\n",
      "16. Users: 1000; Real Uplift: 5.8291, Real Diff: 2.8644; Observed Diff: False; In Inteval: False, CI = [0, 0]; P: 0.5\n",
      "17. Users: 1000; Real Uplift: 5.8291, Real Diff: 2.8644; Observed Diff: False; In Inteval: True, CI = [4.3148, 13.037]; P: 1.0\n",
      "18. Users: 1000; Real Uplift: 5.8291, Real Diff: 2.8644; Observed Diff: False; In Inteval: True, CI = [2.2422, 7.5534]; P: 1.0\n",
      "19. Users: 1000; Real Uplift: 5.8291, Real Diff: 2.8644; Observed Diff: False; In Inteval: True, CI = [3.5796, 8.4693]; P: 1.0\n",
      "20. Users: 1000; Real Uplift: 5.8291, Real Diff: 2.8644; Observed Diff: False; In Inteval: False, CI = [0, 0]; P: 0.5\n",
      "21. Users: 1000; Real Uplift: 5.8291, Real Diff: 2.8644; Observed Diff: False; In Inteval: True, CI = [2.8004, 5.991]; P: 1.0\n",
      "22. Users: 1000; Real Uplift: 5.8291, Real Diff: 2.8644; Observed Diff: False; In Inteval: False, CI = [0, 0]; P: 0.5\n",
      "23. Users: 1000; Real Uplift: 5.8291, Real Diff: 2.8644; Observed Diff: False; In Inteval: True, CI = [2.673, 8.1824]; P: 1.0\n",
      "24. Users: 1000; Real Uplift: 5.8291, Real Diff: 2.8644; Observed Diff: False; In Inteval: True, CI = [3.8582, 9.9368]; P: 1.0\n",
      "25. Users: 1000; Real Uplift: 5.8291, Real Diff: 2.8644; Observed Diff: False; In Inteval: True, CI = [4.0271, 13.0589]; P: 1.0\n",
      "26. Users: 1000; Real Uplift: 5.8291, Real Diff: 2.8644; Observed Diff: False; In Inteval: True, CI = [3.8489, 13.5413]; P: 1.0\n",
      "27. Users: 1000; Real Uplift: 5.8291, Real Diff: 2.8644; Observed Diff: False; In Inteval: True, CI = [2.2889, 6.712]; P: 1.0\n",
      "28. Users: 1000; Real Uplift: 5.8291, Real Diff: 2.8644; Observed Diff: False; In Inteval: False, CI = [2.1796, 5.8174]; P: 1.0\n",
      "29. Users: 1000; Real Uplift: 5.8291, Real Diff: 2.8644; Observed Diff: False; In Inteval: True, CI = [2.461, 7.536]; P: 1.0\n",
      "30. Users: 1000; Real Uplift: 5.8291, Real Diff: 2.8644; Observed Diff: False; In Inteval: True, CI = [3.2342, 8.9153]; P: 1.0\n",
      "31. Users: 1000; Real Uplift: 5.8291, Real Diff: 2.8644; Observed Diff: False; In Inteval: False, CI = [0, 0]; P: 0.5\n",
      "32. Users: 1000; Real Uplift: 5.8291, Real Diff: 2.8644; Observed Diff: False; In Inteval: True, CI = [2.9281, 8.8113]; P: 1.0\n",
      "33. Users: 1000; Real Uplift: 5.8291, Real Diff: 2.8644; Observed Diff: False; In Inteval: True, CI = [2.8675, 7.8751]; P: 1.0\n",
      "34. Users: 1000; Real Uplift: 5.8291, Real Diff: 2.8644; Observed Diff: False; In Inteval: False, CI = [0, 0]; P: 0.5\n",
      "35. Users: 1000; Real Uplift: 5.8291, Real Diff: 2.8644; Observed Diff: False; In Inteval: True, CI = [2.3613, 6.0563]; P: 1.0\n",
      "36. Users: 1000; Real Uplift: 5.8291, Real Diff: 2.8644; Observed Diff: False; In Inteval: True, CI = [3.1455, 8.4546]; P: 1.0\n",
      "37. Users: 1000; Real Uplift: 5.8291, Real Diff: 2.8644; Observed Diff: False; In Inteval: True, CI = [2.2725, 8.0869]; P: 1.0\n",
      "38. Users: 1000; Real Uplift: 5.8291, Real Diff: 2.8644; Observed Diff: False; In Inteval: True, CI = [4.0125, 10.4762]; P: 1.0\n",
      "39. Users: 1000; Real Uplift: 5.8291, Real Diff: 2.8644; Observed Diff: False; In Inteval: True, CI = [2.7509, 6.8799]; P: 1.0\n",
      "40. Users: 1000; Real Uplift: 5.8291, Real Diff: 2.8644; Observed Diff: False; In Inteval: True, CI = [4.1311, 10.3107]; P: 1.0\n",
      "41. Users: 1000; Real Uplift: 5.8291, Real Diff: 2.8644; Observed Diff: False; In Inteval: True, CI = [4.4289, 12.811]; P: 1.0\n",
      "42. Users: 1000; Real Uplift: 5.8291, Real Diff: 2.8644; Observed Diff: False; In Inteval: True, CI = [2.3632, 8.1504]; P: 1.0\n",
      "43. Users: 1000; Real Uplift: 5.8291, Real Diff: 2.8644; Observed Diff: False; In Inteval: False, CI = [0, 0]; P: 0.5\n",
      "44. Users: 1000; Real Uplift: 5.8291, Real Diff: 2.8644; Observed Diff: False; In Inteval: True, CI = [3.4424, 8.8653]; P: 1.0\n",
      "45. Users: 1000; Real Uplift: 5.8291, Real Diff: 2.8644; Observed Diff: False; In Inteval: True, CI = [2.4016, 6.363]; P: 1.0\n",
      "46. Users: 1000; Real Uplift: 5.8291, Real Diff: 2.8644; Observed Diff: False; In Inteval: True, CI = [2.1694, 6.7392]; P: 1.0\n",
      "47. Users: 1000; Real Uplift: 5.8291, Real Diff: 2.8644; Observed Diff: False; In Inteval: True, CI = [1.9812, 6.2213]; P: 1.0\n",
      "48. Users: 1000; Real Uplift: 5.8291, Real Diff: 2.8644; Observed Diff: False; In Inteval: True, CI = [2.841, 9.8733]; P: 1.0\n",
      "49. Users: 1000; Real Uplift: 5.8291, Real Diff: 2.8644; Observed Diff: False; In Inteval: False, CI = [0, 0]; P: 0.5\n",
      "50. Users: 1000; Real Uplift: 5.8291, Real Diff: 2.8644; Observed Diff: False; In Inteval: True, CI = [2.7007, 7.855]; P: 1.0\n",
      "51. Users: 1000; Real Uplift: 5.8291, Real Diff: 2.8644; Observed Diff: False; In Inteval: True, CI = [2.9952, 8.2818]; P: 1.0\n",
      "52. Users: 1000; Real Uplift: 5.8291, Real Diff: 2.8644; Observed Diff: False; In Inteval: False, CI = [0, 0]; P: 0.5\n",
      "53. Users: 1000; Real Uplift: 5.8291, Real Diff: 2.8644; Observed Diff: False; In Inteval: False, CI = [0, 0]; P: 0.5\n",
      "54. Users: 1000; Real Uplift: 5.8291, Real Diff: 2.8644; Observed Diff: False; In Inteval: True, CI = [4.8638, 13.906]; P: 1.0\n",
      "55. Users: 1000; Real Uplift: 5.8291, Real Diff: 2.8644; Observed Diff: False; In Inteval: True, CI = [2.2676, 8.7429]; P: 1.0\n",
      "56. Users: 1000; Real Uplift: 5.8291, Real Diff: 2.8644; Observed Diff: False; In Inteval: True, CI = [3.2956, 8.6478]; P: 1.0\n",
      "57. Users: 1000; Real Uplift: 5.8291, Real Diff: 2.8644; Observed Diff: False; In Inteval: True, CI = [3.0833, 11.2423]; P: 1.0\n",
      "58. Users: 1000; Real Uplift: 5.8291, Real Diff: 2.8644; Observed Diff: False; In Inteval: True, CI = [4.5614, 12.3815]; P: 1.0\n",
      "59. Users: 1000; Real Uplift: 5.8291, Real Diff: 2.8644; Observed Diff: False; In Inteval: True, CI = [3.4288, 10.3207]; P: 1.0\n",
      "60. Users: 1000; Real Uplift: 5.8291, Real Diff: 2.8644; Observed Diff: False; In Inteval: True, CI = [2.5899, 8.1879]; P: 1.0\n",
      "61. Users: 1000; Real Uplift: 5.8291, Real Diff: 2.8644; Observed Diff: False; In Inteval: True, CI = [3.4908, 7.7709]; P: 1.0\n",
      "62. Users: 1000; Real Uplift: 5.8291, Real Diff: 2.8644; Observed Diff: False; In Inteval: True, CI = [2.3503, 8.4292]; P: 1.0\n",
      "63. Users: 1000; Real Uplift: 5.8291, Real Diff: 2.8644; Observed Diff: False; In Inteval: True, CI = [3.259, 11.322]; P: 1.0\n",
      "64. Users: 1000; Real Uplift: 5.8291, Real Diff: 2.8644; Observed Diff: False; In Inteval: False, CI = [0, 0]; P: 0.5\n",
      "65. Users: 1000; Real Uplift: 5.8291, Real Diff: 2.8644; Observed Diff: False; In Inteval: False, CI = [0, 0]; P: 0.5\n",
      "66. Users: 1000; Real Uplift: 5.8291, Real Diff: 2.8644; Observed Diff: False; In Inteval: True, CI = [3.7553, 8.5539]; P: 1.0\n",
      "67. Users: 1000; Real Uplift: 5.8291, Real Diff: 2.8644; Observed Diff: False; In Inteval: True, CI = [2.6648, 6.5274]; P: 1.0\n",
      "68. Users: 1000; Real Uplift: 5.8291, Real Diff: 2.8644; Observed Diff: False; In Inteval: True, CI = [3.489, 11.6368]; P: 1.0\n",
      "69. Users: 1000; Real Uplift: 5.8291, Real Diff: 2.8644; Observed Diff: False; In Inteval: False, CI = [0, 0]; P: 0.5\n",
      "70. Users: 1000; Real Uplift: 5.8291, Real Diff: 2.8644; Observed Diff: False; In Inteval: True, CI = [3.9865, 9.5642]; P: 1.0\n",
      "71. Users: 1000; Real Uplift: 5.8291, Real Diff: 2.8644; Observed Diff: False; In Inteval: False, CI = [0, 0]; P: 0.5\n",
      "72. Users: 1000; Real Uplift: 5.8291, Real Diff: 2.8644; Observed Diff: False; In Inteval: True, CI = [2.263, 6.215]; P: 1.0\n",
      "73. Users: 1000; Real Uplift: 5.8291, Real Diff: 2.8644; Observed Diff: False; In Inteval: True, CI = [1.828, 7.2275]; P: 1.0\n",
      "74. Users: 1000; Real Uplift: 5.8291, Real Diff: 2.8644; Observed Diff: False; In Inteval: False, CI = [0, 0]; P: 0.5\n",
      "75. Users: 1000; Real Uplift: 5.8291, Real Diff: 2.8644; Observed Diff: False; In Inteval: True, CI = [2.8873, 7.9787]; P: 1.0\n",
      "76. Users: 1000; Real Uplift: 5.8291, Real Diff: 2.8644; Observed Diff: False; In Inteval: True, CI = [4.2955, 11.097]; P: 1.0\n",
      "77. Users: 1000; Real Uplift: 5.8291, Real Diff: 2.8644; Observed Diff: False; In Inteval: True, CI = [2.7663, 7.7583]; P: 1.0\n",
      "78. Users: 1000; Real Uplift: 5.8291, Real Diff: 2.8644; Observed Diff: False; In Inteval: True, CI = [2.6115, 7.0969]; P: 1.0\n",
      "79. Users: 1000; Real Uplift: 5.8291, Real Diff: 2.8644; Observed Diff: False; In Inteval: False, CI = [0, 0]; P: 0.5\n",
      "80. Users: 1000; Real Uplift: 5.8291, Real Diff: 2.8644; Observed Diff: False; In Inteval: False, CI = [5.9646, 16.2032]; P: 1.0\n",
      "81. Users: 1000; Real Uplift: 5.8291, Real Diff: 2.8644; Observed Diff: False; In Inteval: False, CI = [0, 0]; P: 0.5\n",
      "82. Users: 1000; Real Uplift: 5.8291, Real Diff: 2.8644; Observed Diff: False; In Inteval: True, CI = [3.4238, 9.4378]; P: 1.0\n",
      "83. Users: 1000; Real Uplift: 5.8291, Real Diff: 2.8644; Observed Diff: False; In Inteval: True, CI = [2.4699, 7.5675]; P: 1.0\n",
      "84. Users: 1000; Real Uplift: 5.8291, Real Diff: 2.8644; Observed Diff: False; In Inteval: False, CI = [0, 0]; P: 0.5\n",
      "85. Users: 1000; Real Uplift: 5.8291, Real Diff: 2.8644; Observed Diff: False; In Inteval: False, CI = [0, 0]; P: 0.5\n",
      "86. Users: 1000; Real Uplift: 5.8291, Real Diff: 2.8644; Observed Diff: False; In Inteval: True, CI = [2.6744, 6.0139]; P: 1.0\n",
      "87. Users: 1000; Real Uplift: 5.8291, Real Diff: 2.8644; Observed Diff: False; In Inteval: True, CI = [2.5629, 6.6826]; P: 1.0\n",
      "88. Users: 1000; Real Uplift: 5.8291, Real Diff: 2.8644; Observed Diff: False; In Inteval: True, CI = [3.6303, 9.879]; P: 1.0\n",
      "89. Users: 1000; Real Uplift: 5.8291, Real Diff: 2.8644; Observed Diff: False; In Inteval: True, CI = [5.3435, 14.3152]; P: 1.0\n",
      "90. Users: 1000; Real Uplift: 5.8291, Real Diff: 2.8644; Observed Diff: False; In Inteval: True, CI = [2.3527, 7.2356]; P: 1.0\n",
      "91. Users: 1000; Real Uplift: 5.8291, Real Diff: 2.8644; Observed Diff: False; In Inteval: False, CI = [0, 0]; P: 0.5\n",
      "92. Users: 1000; Real Uplift: 5.8291, Real Diff: 2.8644; Observed Diff: False; In Inteval: True, CI = [3.6458, 10.3013]; P: 1.0\n",
      "93. Users: 1000; Real Uplift: 5.8291, Real Diff: 2.8644; Observed Diff: False; In Inteval: True, CI = [4.4715, 12.6077]; P: 1.0\n",
      "94. Users: 1000; Real Uplift: 5.8291, Real Diff: 2.8644; Observed Diff: False; In Inteval: True, CI = [2.4139, 8.373]; P: 1.0\n",
      "95. Users: 1000; Real Uplift: 5.8291, Real Diff: 2.8644; Observed Diff: False; In Inteval: False, CI = [0, 0]; P: 0.5\n",
      "96. Users: 1000; Real Uplift: 5.8291, Real Diff: 2.8644; Observed Diff: False; In Inteval: True, CI = [1.7872, 6.6421]; P: 1.0\n",
      "97. Users: 1000; Real Uplift: 5.8291, Real Diff: 2.8644; Observed Diff: False; In Inteval: True, CI = [3.179, 10.4181]; P: 1.0\n",
      "98. Users: 1000; Real Uplift: 5.8291, Real Diff: 2.8644; Observed Diff: False; In Inteval: True, CI = [3.0968, 8.6322]; P: 1.0\n",
      "99. Users: 1000; Real Uplift: 5.8291, Real Diff: 2.8644; Observed Diff: False; In Inteval: True, CI = [3.7188, 11.524]; P: 1.0\n",
      "100. Users: 1000; Real Uplift: 5.8291, Real Diff: 2.8644; Observed Diff: False; In Inteval: True, CI = [4.6545, 15.7623]; P: 1.0\n",
      "Proportion of times 'contains_true_uplift' was True: 0.75\n",
      "Proportion of winners: 0.79\n"
     ]
    }
   ],
   "source": [
    "iterate_and_print(100,population_0, population_1,1000)"
   ]
  },
  {
   "cell_type": "code",
   "execution_count": null,
   "id": "fc6f290e-5529-4e1a-8250-995af7a3e697",
   "metadata": {},
   "outputs": [
    {
     "data": {
      "image/png": "[encoded data removed]",
      "text/plain": [
       "<Figure size 640x480 with 1 Axes>"
      ]
     },
     "metadata": {},
     "output_type": "display_data"
    }
   ],
   "source": [
    "calculate_sample_means(population_1, 1000)"
   ]
  },
  {
   "cell_type": "code",
   "execution_count": 29,
   "id": "0d6043e0-dd2d-49be-974d-ac84c7bcedeb",
   "metadata": {},
   "outputs": [
    {
     "name": "stdout",
     "output_type": "stream",
     "text": [
      "2.5th percentile: -0.12\n",
      "97.5th percentile: 4.23\n",
      "Mean of sample mean differences: 2.05\n",
      "Standard deviation of sample mean differences: 1.06\n",
      "Skewness of sample mean differences: 5.09\n",
      "Kurtosis of sample mean differences: 61.22\n"
     ]
    },
    {
     "data": {
      "image/png": "[encoded data removed]",
      "text/plain": [
       "<Figure size 640x480 with 1 Axes>"
      ]
     },
     "metadata": {},
     "output_type": "display_data"
    },
    {
     "data": {
      "image/png": "[encoded data removed]",
      "text/plain": [
       "<Figure size 1200x500 with 1 Axes>"
      ]
     },
     "metadata": {},
     "output_type": "display_data"
    },
    {
     "name": "stdout",
     "output_type": "stream",
     "text": [
      "Proportion of confidence intervals that failed to contain the true mean difference: 0.20\n",
      "Proportion of confidence intervals that overshoot the true mean difference: 0.00\n",
      "Proportion of confidence intervals that undershoot the true mean difference: 0.20\n"
     ]
    },
    {
     "data": {
      "text/plain": [
       "True"
      ]
     },
     "execution_count": 29,
     "metadata": {},
     "output_type": "execute_result"
    }
   ],
   "source": [
    "plot_sample_mean_diffs(population_0, population_1, sample_size=1000, num_samples=100000)"
   ]
  },
  {
   "cell_type": "code",
   "execution_count": 68,
   "id": "5864d465-b5f6-4fdd-b1c5-8b9771e40642",
   "metadata": {},
   "outputs": [],
   "source": [
    "def estimate_population_variance(population, sample_size, num_iterations):\n",
    "    population_variance = np.var(population, ddof=0)  # population variance\n",
    "    sample_variances = []\n",
    "\n",
    "    # Perform the sampling process\n",
    "    for _ in range(num_iterations):\n",
    "        sample = np.random.choice(population, sample_size)\n",
    "        sample_variance = np.var(sample, ddof=1)  # Using Bessel's correction (ddof=1)\n",
    "        sample_variances.append((sample_size - 1) * sample_variance)\n",
    "\n",
    "    # Convert to numpy array for easier calculations\n",
    "    sample_variances = np.array(sample_variances)\n",
    "\n",
    "    # Plot histogram of scaled sample variances\n",
    "    plt.hist(sample_variances, bins=50, alpha=0.5, density=True, label='Observed scaled sample variances')\n",
    "\n",
    "    # Overlay the theoretical chi-square distribution\n",
    "    df = sample_size - 1  # degrees of freedom for the chi-square distribution\n",
    "    x_values = np.linspace(0, np.max(sample_variances), 100)\n",
    "    y_values = stats.chi2.pdf(x_values, df)\n",
    "    plt.plot(x_values, y_values, 'r-', lw=2, label='Theoretical chi-square distribution')\n",
    "\n",
    "    plt.title('Histogram of Scaled Sample Variances')\n",
    "    plt.xlabel('Scaled Sample Variance')\n",
    "    plt.ylabel('Density')\n",
    "    plt.legend()\n",
    "    plt.grid(True)\n",
    "    plt.show()\n",
    "\n",
    "    return sample_variances\n"
   ]
  },
  {
   "cell_type": "code",
   "execution_count": null,
   "id": "c3122b36-4116-45c5-8b46-2860e29d9940",
   "metadata": {},
   "outputs": [],
   "source": []
  },
  {
   "cell_type": "code",
   "execution_count": 74,
   "id": "5f2204d7-f412-4b9c-9834-75eea4f3c3b4",
   "metadata": {},
   "outputs": [
    {
     "data": {
      "image/png": "[encoded data removed]",
      "text/plain": [
       "<Figure size 640x480 with 1 Axes>"
      ]
     },
     "metadata": {},
     "output_type": "display_data"
    }
   ],
   "source": [
    "sample_variances = estimate_population_variance(population_0, 10, 100000)"
   ]
  },
  {
   "cell_type": "code",
   "execution_count": 78,
   "id": "0edb9717-2bd7-4cf6-ab02-e5cc805167e4",
   "metadata": {},
   "outputs": [],
   "source": [
    "ks_statistic, p_value = kstest(sample_variances, 'chi2', args=(10-1,))"
   ]
  },
  {
   "cell_type": "code",
   "execution_count": 79,
   "id": "4e3adb3a-991a-4d1e-9b34-779502169a65",
   "metadata": {},
   "outputs": [
    {
     "name": "stdout",
     "output_type": "stream",
     "text": [
      "0.40458037784846446\n"
     ]
    }
   ],
   "source": [
    "print(p_value)"
   ]
  }
 ],
 "metadata": {
  "kernelspec": {
   "display_name": "Python 3 (ipykernel)",
   "language": "python",
   "name": "python3"
  },
  "language_info": {
   "codemirror_mode": {
    "name": "ipython",
    "version": 3
   },
   "file_extension": ".py",
   "mimetype": "text/x-python",
   "name": "python",
   "nbconvert_exporter": "python",
   "pygments_lexer": "ipython3",
   "version": "3.8.13"
  },
  "toc-autonumbering": false,
  "toc-showcode": false,
  "toc-showmarkdowntxt": false
 },
 "nbformat": 4,
 "nbformat_minor": 5
}
