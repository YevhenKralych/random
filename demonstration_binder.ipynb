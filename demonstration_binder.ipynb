{
 "cells": [
  {
   "cell_type": "code",
   "execution_count": 24,
   "id": "4940ead3-a35f-4024-a912-93c57c34233a",
   "metadata": {
    "tags": []
   },
   "outputs": [],
   "source": [
    "import ipywidgets as widgets\n",
    "import numpy as np\n",
    "from IPython.display import display, clear_output\n",
    "from PIL import Image\n",
    "import io\n",
    "import numpy as np\n",
    "import ipywidgets as widgets\n",
    "from IPython.display import display, clear_output\n",
    "from PIL import Image\n",
    "import io"
   ]
  },
  {
   "cell_type": "markdown",
   "id": "850ecf46-be50-4b2e-b396-42e81ec1d7cd",
   "metadata": {},
   "source": [
    "## Simulations One (A Single Draw per Bag)"
   ]
  },
  {
   "cell_type": "code",
   "execution_count": 25,
   "id": "036eca39-a99e-4216-8651-8e64a41ef48f",
   "metadata": {
    "tags": []
   },
   "outputs": [
    {
     "data": {
      "application/vnd.jupyter.widget-view+json": {
       "model_id": "c3d9a24480e64ff0a6a97923f460d1fb",
       "version_major": 2,
       "version_minor": 0
      },
      "text/plain": [
       "Button(description='Достать картошку из мешков', style=ButtonStyle())"
      ]
     },
     "metadata": {},
     "output_type": "display_data"
    },
    {
     "data": {
      "application/vnd.jupyter.widget-view+json": {
       "model_id": "9504a8a747904bfc8724558f413cbb4f",
       "version_major": 2,
       "version_minor": 0
      },
      "text/plain": [
       "Output()"
      ]
     },
     "metadata": {},
     "output_type": "display_data"
    },
    {
     "data": {
      "application/vnd.jupyter.widget-view+json": {
       "model_id": "d2e22eb18c9e4a6487068a6db2ff67af",
       "version_major": 2,
       "version_minor": 0
      },
      "text/plain": [
       "Button(description='Узнать правду', style=ButtonStyle())"
      ]
     },
     "metadata": {},
     "output_type": "display_data"
    },
    {
     "data": {
      "application/vnd.jupyter.widget-view+json": {
       "model_id": "226d7e634499427aaf34d2e30c525949",
       "version_major": 2,
       "version_minor": 0
      },
      "text/plain": [
       "Output()"
      ]
     },
     "metadata": {},
     "output_type": "display_data"
    }
   ],
   "source": [
    "# Function to display images for each element in the array\n",
    "def display_images(array, output_widget):\n",
    "    container = widgets.HBox()\n",
    "    images = []\n",
    "    for value in array:\n",
    "        image_file = 'bad_potatoe.png' if value == 1 else 'good_potatoe.png'\n",
    "        with open(image_file, \"rb\") as file:\n",
    "            image = file.read()\n",
    "        image_widget = widgets.Image(value=image, format='jpg', width=50, height=50)\n",
    "        images.append(image_widget)\n",
    "    container.children = images\n",
    "    with output_widget:\n",
    "        display(container)\n",
    "\n",
    "# Global variables to store proportions\n",
    "proportion_a = 0\n",
    "proportion_b = 0\n",
    "\n",
    "# Function to be executed on button click for simulation\n",
    "def execute_code(b):\n",
    "    global proportion_a, proportion_b\n",
    "    with output_simulate:\n",
    "        clear_output()\n",
    "        # Clear the output of the proportions when running a new simulation\n",
    "        with output_proportions:\n",
    "            clear_output()\n",
    "\n",
    "        # Generating random proportions for the binomial distributions\n",
    "        proportion_a = round(0.30 + 0.18 * np.random.rand(), 2)\n",
    "        proportion_b = round(0.30 + 0.18 * np.random.rand(), 2)\n",
    "        \n",
    "        # Drawing 10 elements from each binomial distribution\n",
    "        bag_a = np.random.binomial(1, proportion_a, 10)\n",
    "        bag_b = np.random.binomial(1, proportion_b, 10)\n",
    "\n",
    "        # Calculating the proportions of 1s in the samples\n",
    "        sample_proportion_a = round(np.mean(bag_a), 2)\n",
    "        sample_proportion_b = round(np.mean(bag_b), 2)\n",
    "\n",
    "        sample_percent_a = sample_proportion_a * 100\n",
    "        sample_percent_b = sample_proportion_b * 100\n",
    "        \n",
    "        # Sort the arrays\n",
    "        sorted_bag_a = np.sort(bag_a)\n",
    "        sorted_bag_b = np.sort(bag_b) \n",
    "            \n",
    "        # Display images corresponding to bag_a\n",
    "        print(\"Картошка из Мешка А:\" + str(sample_percent_a) + \"% картошки испорчено\" )\n",
    "        display_images(sorted_bag_a, output_simulate)\n",
    "        \n",
    "        # Display images corresponding to bag_b\n",
    "        print(\"Картошка из Мешка Б:\" + str(sample_percent_b) + \"% картошки испорчено\" )\n",
    "        display_images(sorted_bag_b, output_simulate)\n",
    "\n",
    "# Function to display proportions\n",
    "def display_proportions(b):\n",
    "    with output_proportions:\n",
    "        clear_output()\n",
    "        # Display the proportions\n",
    "        print(\"Cколько на самом деле плохой картошки в мешке А:\", proportion_a * 100, \"%\")\n",
    "        print(\"Cколько на самом деле плохой картошки в мешке Б:\", proportion_b * 100, \"%\")\n",
    "\n",
    "# Create the buttons and output widgets\n",
    "button_simulate = widgets.Button(description=\"Достать картошку из мешков\")\n",
    "button_proportions = widgets.Button(description=\"Узнать правду\")\n",
    "output_simulate = widgets.Output()\n",
    "output_proportions = widgets.Output()\n",
    "\n",
    "# Display the buttons and output\n",
    "display(button_simulate, output_simulate)\n",
    "display(button_proportions, output_proportions)\n",
    "\n",
    "# Bind the functions to the buttons\n",
    "button_simulate.on_click(execute_code)\n",
    "button_proportions.on_click(display_proportions)\n"
   ]
  },
  {
   "cell_type": "markdown",
   "id": "6c248ce0-084c-495c-acd6-b3216ff7d30c",
   "metadata": {},
   "source": [
    "## Simulation 2 (Multiple Draws from a Mystery Bag)"
   ]
  },
  {
   "cell_type": "code",
   "execution_count": 26,
   "id": "62a6480a-9588-4594-a66a-ae636fb11a08",
   "metadata": {
    "tags": []
   },
   "outputs": [
    {
     "data": {
      "application/vnd.jupyter.widget-view+json": {
       "model_id": "f8c4613a8e714216afa4c4ec1ce622f4",
       "version_major": 2,
       "version_minor": 0
      },
      "text/plain": [
       "Button(description='Достать картошку', style=ButtonStyle())"
      ]
     },
     "metadata": {},
     "output_type": "display_data"
    },
    {
     "data": {
      "application/vnd.jupyter.widget-view+json": {
       "model_id": "830172ab47fa469d867c9405dee771cd",
       "version_major": 2,
       "version_minor": 0
      },
      "text/plain": [
       "Button(description='Достать много картошки', style=ButtonStyle())"
      ]
     },
     "metadata": {},
     "output_type": "display_data"
    },
    {
     "data": {
      "application/vnd.jupyter.widget-view+json": {
       "model_id": "8bdad2e798ec4501896dcfaef58f60d7",
       "version_major": 2,
       "version_minor": 0
      },
      "text/plain": [
       "Output()"
      ]
     },
     "metadata": {},
     "output_type": "display_data"
    }
   ],
   "source": [
    "# Function to display images for each element in the array and the percentage of 1's\n",
    "def display_images(array, output_widget):\n",
    "    container = widgets.HBox()\n",
    "    images = []\n",
    "    for value in array:\n",
    "        image_file = 'bad_potatoe.png' if value == 1 else 'good_potatoe.png'\n",
    "        with open(image_file, \"rb\") as file:\n",
    "            image = file.read()\n",
    "        image_widget = widgets.Image(value=image, format='jpg', width=50, height=50)\n",
    "        images.append(image_widget)\n",
    "\n",
    "    # Calculate and display the percentage of 1's\n",
    "    percent_ones = np.mean(array) * 100\n",
    "    percentage_label = widgets.Label(value=f\"{percent_ones:.2f}% плохой картошки\")\n",
    "    container.children = images + [percentage_label]\n",
    "    with output_widget:\n",
    "        display(container)\n",
    "\n",
    "# Function to execute a single simulation and display results\n",
    "def execute_simulation(b):\n",
    "    with output:\n",
    "        clear_output()\n",
    "        # Drawing 10 samples from a Bernoulli distribution with p = 0.5\n",
    "        sample = np.random.binomial(1, 0.5, 10)\n",
    "        sample = np.sort(sample)\n",
    "        # Displaying the contents of the array as images and the percentage\n",
    "        display_images(sample, output)\n",
    "\n",
    "# Function to execute the simulation 100 times and display results\n",
    "def execute_simulation_100(b):\n",
    "    proportions = []\n",
    "    with output:\n",
    "        clear_output()\n",
    "        # Run the simulation 100 times\n",
    "        for _ in range(20):\n",
    "            # Drawing 10 samples from a Bernoulli distribution with p = 0.5\n",
    "            sample = np.random.binomial(1, 0.5, 10)\n",
    "            sample = np.sort(sample)\n",
    "            # Store the proportion of 1's\n",
    "            proportions.append(np.mean(sample))\n",
    "            # Displaying the contents of the array as images and the percentage\n",
    "            display_images(sample, output)\n",
    "        \n",
    "        # Report the range of the proportions\n",
    "        min_prop = np.min(proportions) * 100\n",
    "        max_prop = np.max(proportions) * 100\n",
    "        print(f\"Range of proportions: {min_prop:.2f}% - {max_prop:.2f}% Плохой картошки\")\n",
    "\n",
    "# Create the buttons and output widgets\n",
    "button_simulate = widgets.Button(description=\"Достать картошку\")\n",
    "button_simulate_100 = widgets.Button(description=\"Достать много картошки\")\n",
    "output = widgets.Output()\n",
    "\n",
    "# Display the buttons and output\n",
    "display(button_simulate, button_simulate_100, output)\n",
    "\n",
    "# Bind the functions to the buttons\n",
    "button_simulate.on_click(execute_simulation)\n",
    "button_simulate_100.on_click(execute_simulation_100)\n"
   ]
  },
  {
   "cell_type": "code",
   "execution_count": null,
   "id": "f5411935-5485-473e-9cf7-796120a186e1",
   "metadata": {},
   "outputs": [],
   "source": []
  }
 ],
 "metadata": {
  "kernelspec": {
   "display_name": "Python 3 (ipykernel)",
   "language": "python",
   "name": "python3"
  },
  "language_info": {
   "codemirror_mode": {
    "name": "ipython",
    "version": 3
   },
   "file_extension": ".py",
   "mimetype": "text/x-python",
   "name": "python",
   "nbconvert_exporter": "python",
   "pygments_lexer": "ipython3",
   "version": "3.8.13"
  }
 },
 "nbformat": 4,
 "nbformat_minor": 5
}
